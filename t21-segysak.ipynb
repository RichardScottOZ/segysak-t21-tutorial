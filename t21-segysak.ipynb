{
 "cells": [
  {
   "cell_type": "markdown",
   "id": "united-proposal",
   "metadata": {
    "slideshow": {
     "slide_type": "slide"
    }
   },
   "source": [
    "<img src=\"swung_logo_vector.png\" alt=\"swung\" style=\"width: 40%;\"/>\n",
    "\n",
    "# T21 Segysak Tutorial - Tony Hallam, April 2021\n",
    "\n"
   ]
  },
  {
   "cell_type": "markdown",
   "id": "rotary-sterling",
   "metadata": {
    "slideshow": {
     "slide_type": "slide"
    }
   },
   "source": [
    "# Introduction\n",
    "\n",
    "## What is `segysak`?\n",
    "\n",
    "## Tour\n",
    "\n",
    "## `segysak` vs X\n",
    "\n",
    "## SEG-Y Files"
   ]
  },
  {
   "cell_type": "markdown",
   "id": "fatal-intervention",
   "metadata": {
    "slideshow": {
     "slide_type": "subslide"
    }
   },
   "source": [
    "## `segysak`\n",
    "\n",
    "Make SEG-Y data easily accessible and creatable from Python"
   ]
  },
  {
   "cell_type": "markdown",
   "id": "solved-adolescent",
   "metadata": {
    "slideshow": {
     "slide_type": "notes"
    }
   },
   "source": [
    "Simply put, `segysak` has grown as a set of tools to make SEG-Y data easily accessible and createable from Python.\n",
    "If leverages a number of existing libraries but brings them together to try and improve the user experience, and\n",
    "to remove as much boiler plate code as possible when dealing with SEG-Y.\n",
    "\n",
    "The project started about a year ago at Transform 2020. Most of the work was done during that hackathon but it has\n",
    "continued to develop since then with gradual improvements, bug-fixes and user support.\n",
    "\n",
    "Although I'm the project owner and one of the primary users of `segysak` (I use it it in a lot of my PhD projects).\n",
    "It is open for the subsurface community to not only utilise, but to contribute to grow to meet peoples needs.\n",
    "\n",
    "I'd strongly encourage anyone with ideas and/or enthusiasm for changes or additions to get in touch so we can improve `segysak` for everyone."
   ]
  },
  {
   "cell_type": "markdown",
   "id": "bored-sheep",
   "metadata": {
    "slideshow": {
     "slide_type": "subslide"
    }
   },
   "source": [
    "## Tour\n",
    "\n",
    " - Github (source code, issues, contributions) - https://github.com/trhallam/segysak\n",
    " - Documentation (help, examples, API) - https://segysak.readthedocs.io/en/latest/\n",
    " - Slack (help, discussion, ideas, contributions) - https://swung.slack.com/messages/segysak/"
   ]
  },
  {
   "cell_type": "markdown",
   "id": "incorporate-crawford",
   "metadata": {
    "slideshow": {
     "slide_type": "notes"
    }
   },
   "source": [
    "Everything you need to know about `segysak` is available online. There is the Github repository where we manage the source code for the library and distribute the packages for installation via pip. \n",
    "\n",
    "There is also an issue tracker where you can raise bugs/problems or submit ideas or suggestions. It's also a good place to look for things that need doing if you want to help out.\n",
    "\n",
    "We then have the documentation on readthedocs. Here you will find more detailed help, examples (which are avaialble as Notebooks) and the API (of function and member descriptions). This is a really useful place to come if you are stuck, or\n",
    "need more detail because we cover a lot of the basics in the documentation. Indeed this workshop is heavily influenced\n",
    "by the first few example notebooks you can find here.\n",
    "\n",
    "Finally, we have the Slack forum hosted on swung.slack. This space is always open for people to ask questions or get help, even drop by just for a bit of discussion."
   ]
  },
  {
   "cell_type": "markdown",
   "id": "balanced-residence",
   "metadata": {
    "slideshow": {
     "slide_type": "subslide"
    }
   },
   "source": [
    "## `segysak` versus X"
   ]
  },
  {
   "cell_type": "markdown",
   "id": "paperback-despite",
   "metadata": {
    "slideshow": {
     "slide_type": "notes"
    }
   },
   "source": [
    "A lot of the time I get asked about segysak versus X in the Python world, where does it fit in?\n",
    "The reality is, segysak doesn't so much compete with any part of the scientific stack but tries to form bridges over\n",
    "the common space we often have to traverse. For example."
   ]
  },
  {
   "cell_type": "markdown",
   "id": "appreciated-falls",
   "metadata": {
    "slideshow": {
     "slide_type": "fragment"
    }
   },
   "source": [
    "### `segyio`\n",
    "\n",
    " - `segysak` relies on `segyio` but abstracts a lot of the low level detail"
   ]
  },
  {
   "cell_type": "markdown",
   "id": "heavy-second",
   "metadata": {
    "slideshow": {
     "slide_type": "notes"
    }
   },
   "source": [
    "segysak couldn't exist without segyio - segyio does all the hard work of interacting with the actual SEG-Y and segysak tries to make segyio a bit more accessible by providing a direct link between it and easy to use libraries like xarray."
   ]
  },
  {
   "cell_type": "markdown",
   "id": "attempted-daughter",
   "metadata": {
    "slideshow": {
     "slide_type": "fragment"
    }
   },
   "source": [
    "### `xarray`\n",
    "\n",
    " - `segysak` extends `xarray` to make it easier to deal with SEG-Y files"
   ]
  },
  {
   "cell_type": "markdown",
   "id": "plain-terrain",
   "metadata": {
    "slideshow": {
     "slide_type": "notes"
    }
   },
   "source": [
    "Things like loading and writing of files are more automated. Trys to take care of tracking things like headers, and attributes for you.\n",
    "\n",
    "Also includes extensions for common seismic related tasks."
   ]
  },
  {
   "cell_type": "markdown",
   "id": "smoking-shame",
   "metadata": {
    "slideshow": {
     "slide_type": "subslide"
    }
   },
   "source": [
    "## SEG-Y Files\n",
    "\n",
    "File format defined by the SEG Organisation for storing seismic trace data.\n",
    "\n",
    "Heavily geared toward limited size magnetic reel tapes."
   ]
  },
  {
   "cell_type": "markdown",
   "id": "disciplinary-template",
   "metadata": {
    "slideshow": {
     "slide_type": "fragment"
    }
   },
   "source": [
    "**Basic Format (SEGY-Rev2):**\n",
    "\n",
    "<img src=\"segy_layout.png\" alt=\"swung\" style=\"width: 100%;\"/>\n"
   ]
  },
  {
   "cell_type": "markdown",
   "id": "duplicate-revision",
   "metadata": {
    "slideshow": {
     "slide_type": "slide"
    }
   },
   "source": [
    "# Installation\n",
    "\n",
    "`pip install segysak`\n",
    "\n",
    "Demo Data\n",
    "\n",
    "Opening the Tutorial Notebook"
   ]
  },
  {
   "cell_type": "code",
   "execution_count": null,
   "id": "seventh-funeral",
   "metadata": {
    "scrolled": true
   },
   "outputs": [],
   "source": [
    "from segysak.segy import segy_loader\n"
   ]
  },
  {
   "cell_type": "markdown",
   "id": "atlantic-table",
   "metadata": {
    "slideshow": {
     "slide_type": "subslide"
    }
   },
   "source": [
    "## Basic Imports"
   ]
  },
  {
   "cell_type": "code",
   "execution_count": null,
   "id": "incoming-sacramento",
   "metadata": {},
   "outputs": [],
   "source": [
    "import pathlib\n",
    "from IPython.display import display\n",
    "import pandas as pd\n",
    "import numpy as np\n",
    "import xarray as xr\n",
    "import matplotlib.pyplot as plt"
   ]
  },
  {
   "cell_type": "markdown",
   "id": "reported-martin",
   "metadata": {
    "slideshow": {
     "slide_type": "slide"
    }
   },
   "source": [
    "# Basic Usage\n",
    "\n",
    "### Inspecting SEG-Y files\n",
    "\n",
    "### Loading SEG-Y files\n",
    "\n",
    "### `xarray.Dataset` basics\n",
    "\n",
    "### NetCDF Files\n",
    "\n",
    "### Editing and Saving"
   ]
  },
  {
   "cell_type": "code",
   "execution_count": null,
   "id": "exact-processor",
   "metadata": {
    "slideshow": {
     "slide_type": "subslide"
    }
   },
   "outputs": [],
   "source": [
    "# specify the example file and check we have the example data\n",
    "\n",
    "segy_file = pathlib.Path(\"data/volve10r12-full-twt-sub3d.sgy\")\n",
    "print(\"SEG-Y exists:\", segy_file.exists())\n",
    " "
   ]
  },
  {
   "cell_type": "markdown",
   "id": "loose-advertiser",
   "metadata": {
    "slideshow": {
     "slide_type": "subslide"
    }
   },
   "source": [
    "## Inspecting SEG-Y files\n"
   ]
  },
  {
   "cell_type": "code",
   "execution_count": null,
   "id": "surprised-booth",
   "metadata": {},
   "outputs": [],
   "source": [
    "from segysak.segy import segy_header_scan, segy_header_scrape, get_segy_texthead"
   ]
  },
  {
   "cell_type": "code",
   "execution_count": null,
   "id": "brazilian-plane",
   "metadata": {
    "slideshow": {
     "slide_type": "fragment"
    }
   },
   "outputs": [],
   "source": [
    "# examine the text header\n",
    "get_segy_texthead(segy_file)"
   ]
  },
  {
   "cell_type": "markdown",
   "id": "muslim-dubai",
   "metadata": {
    "slideshow": {
     "slide_type": "subslide"
    }
   },
   "source": [
    "## Inspecting SEG-Y files - trace header scan\n"
   ]
  },
  {
   "cell_type": "code",
   "execution_count": null,
   "id": "shaped-citizenship",
   "metadata": {
    "scrolled": true,
    "slideshow": {
     "slide_type": "-"
    }
   },
   "outputs": [],
   "source": [
    "# scan the headers to check\n",
    "scan = segy_header_scan(segy_file, max_traces_scan=2000)\n",
    "with pd.option_context(\"display.max_rows\", 100):\n",
    "    display(scan)"
   ]
  },
  {
   "cell_type": "markdown",
   "id": "plastic-allah",
   "metadata": {
    "slideshow": {
     "slide_type": "notes"
    }
   },
   "source": [
    "Use the context manager\n",
    "\n",
    "with pd.option_context(\"display.max_rows\", 100):\n",
    "    display(scan)\n",
    "    \n",
    "index names are the same as what `segyio` uses\n",
    "\n",
    "point out byte locations - segysak preference"
   ]
  },
  {
   "cell_type": "markdown",
   "id": "precise-hydrogen",
   "metadata": {
    "slideshow": {
     "slide_type": "subslide"
    }
   },
   "source": [
    "## Inspecting SEG-Y files - trace header scrape\n"
   ]
  },
  {
   "cell_type": "code",
   "execution_count": null,
   "id": "republican-theorem",
   "metadata": {
    "slideshow": {
     "slide_type": "-"
    }
   },
   "outputs": [],
   "source": [
    "trace_headers = segy_header_scrape(segy_file)\n",
    "trace_headers"
   ]
  },
  {
   "cell_type": "code",
   "execution_count": null,
   "id": "incorrect-rugby",
   "metadata": {
    "slideshow": {
     "slide_type": "subslide"
    }
   },
   "outputs": [],
   "source": [
    "fig, axs = plt.subplots(nrows=2, ncols=2, figsize=(20, 10), sharex=True)\n",
    "\n",
    "for ax, prop in zip(axs.ravel(), [\"CDP_X\", \"CDP_Y\", \"INLINE_3D\", \"CROSSLINE_3D\"]):\n",
    "    ax.plot(trace_headers[prop])\n",
    "    ax.set_title(prop, fontdict={\"fontsize\":18})\n",
    "\n",
    "for ax in axs[1, :]:\n",
    "    ax.set_xlabel(\"Trace\", fontdict={\"fontsize\":18})"
   ]
  },
  {
   "cell_type": "markdown",
   "id": "enormous-university",
   "metadata": {
    "slideshow": {
     "slide_type": "notes"
    }
   },
   "source": [
    "Ranges look reasonable.\n",
    "\n",
    "Sequencing and patterns look good.\n",
    "\n",
    "Probably have right byte locations."
   ]
  },
  {
   "cell_type": "markdown",
   "id": "painful-courage",
   "metadata": {
    "slideshow": {
     "slide_type": "subslide"
    }
   },
   "source": [
    "### Loading SEG-Y files - complete\n",
    "\n"
   ]
  },
  {
   "cell_type": "code",
   "execution_count": null,
   "id": "wanted-balloon",
   "metadata": {},
   "outputs": [],
   "source": [
    "from segysak.segy import segy_loader\n",
    "help(segy_loader)"
   ]
  },
  {
   "cell_type": "markdown",
   "id": "through-future",
   "metadata": {
    "slideshow": {
     "slide_type": "notes"
    }
   },
   "source": [
    "sdfasdf"
   ]
  },
  {
   "cell_type": "code",
   "execution_count": null,
   "id": "approximate-mapping",
   "metadata": {
    "slideshow": {
     "slide_type": "subslide"
    }
   },
   "outputs": [],
   "source": [
    "seisnc_vol = segy_loader(segy_file)"
   ]
  },
  {
   "cell_type": "code",
   "execution_count": null,
   "id": "printable-burke",
   "metadata": {},
   "outputs": [],
   "source": [
    "print(seisnc_vol)"
   ]
  },
  {
   "cell_type": "code",
   "execution_count": null,
   "id": "necessary-family",
   "metadata": {
    "slideshow": {
     "slide_type": "subslide"
    }
   },
   "outputs": [],
   "source": [
    "# lets checkout our data\n",
    "_ = seisnc_vol.sel(iline=10100).data.T.plot(yincrease=False, figsize=(20, 10), vmax=10)"
   ]
  },
  {
   "cell_type": "code",
   "execution_count": null,
   "id": "smoking-expert",
   "metadata": {
    "slideshow": {
     "slide_type": "subslide"
    }
   },
   "outputs": [],
   "source": [
    "# specifying byte locations for key cube geometry\n",
    "seisnc_vol = segy_loader(segy_file, iline=189, xline=193, cdpx=181, cdpy=185)"
   ]
  },
  {
   "cell_type": "code",
   "execution_count": null,
   "id": "pressed-laser",
   "metadata": {},
   "outputs": [],
   "source": [
    "print(seisnc_vol)"
   ]
  },
  {
   "cell_type": "code",
   "execution_count": null,
   "id": "centered-share",
   "metadata": {
    "slideshow": {
     "slide_type": "subslide"
    }
   },
   "outputs": [],
   "source": [
    "# extra_byte_fields (list/mapping)\n",
    "seisnc_vol = segy_loader(segy_file, iline=189, xline=193, cdpx=181, cdpy=185, extra_byte_fields=[73, 77], )# {\"source\":77})"
   ]
  },
  {
   "cell_type": "code",
   "execution_count": null,
   "id": "elementary-orchestra",
   "metadata": {},
   "outputs": [],
   "source": [
    "print(seisnc_vol)"
   ]
  },
  {
   "cell_type": "markdown",
   "id": "looking-hampton",
   "metadata": {
    "slideshow": {
     "slide_type": "subslide"
    }
   },
   "source": [
    "### Loading SEG-Y files - with filtering\n",
    "\n"
   ]
  },
  {
   "cell_type": "code",
   "execution_count": null,
   "id": "hindu-forge",
   "metadata": {},
   "outputs": [],
   "source": [
    "seisnc_vol_iline_10100 = segy_loader(segy_file, ix_crop=(10100, 10100, 2000, 3000))"
   ]
  },
  {
   "cell_type": "code",
   "execution_count": null,
   "id": "latter-massachusetts",
   "metadata": {},
   "outputs": [],
   "source": [
    "print(seisnc_vol_iline_10100)"
   ]
  },
  {
   "cell_type": "markdown",
   "id": "reported-choice",
   "metadata": {
    "slideshow": {
     "slide_type": "notes"
    }
   },
   "source": [
    "Sometimes SEGY are really big and we may not want to load the whole thing.\n",
    "Filtering can help us get around this."
   ]
  },
  {
   "cell_type": "code",
   "execution_count": null,
   "id": "professional-sculpture",
   "metadata": {
    "slideshow": {
     "slide_type": "subslide"
    }
   },
   "outputs": [],
   "source": [
    "seisnc_vol_iline_block = segy_loader(segy_file, head_df=trace_headers[trace_headers[\"INLINE_3D\"] <= 10100].copy())"
   ]
  },
  {
   "cell_type": "code",
   "execution_count": null,
   "id": "dietary-complaint",
   "metadata": {},
   "outputs": [],
   "source": [
    "print(seisnc_vol_iline_block)"
   ]
  },
  {
   "cell_type": "markdown",
   "id": "rural-athletics",
   "metadata": {
    "slideshow": {
     "slide_type": "notes"
    }
   },
   "source": [
    "Filtering of the `trace_headers` can be done in any normal way using `pandas`. \n",
    "\n",
    "Don't change the columns or the index.\n",
    "\n",
    "Point out sister function `segy_converter`"
   ]
  },
  {
   "cell_type": "markdown",
   "id": "spanish-reasoning",
   "metadata": {
    "slideshow": {
     "slide_type": "subslide"
    }
   },
   "source": [
    "## `xarray.Dataset` basics\n",
    "\n",
    "Based upon the NetCDF file format for multi-variable, n-dimensional data.\n",
    "\n",
    "<center> <img src=\"seisnc-diagram.png\" alt='seisnc' width=\"50%\" /> </center>"
   ]
  },
  {
   "cell_type": "code",
   "execution_count": null,
   "id": "lyric-impression",
   "metadata": {
    "slideshow": {
     "slide_type": "subslide"
    }
   },
   "outputs": [],
   "source": [
    "# dataset anatomy - dimensions, coordinates, variables, attributes - DataArray vs Dataset\n",
    "seisnc_vol"
   ]
  },
  {
   "cell_type": "code",
   "execution_count": null,
   "id": "revolutionary-outreach",
   "metadata": {
    "slideshow": {
     "slide_type": "subslide"
    }
   },
   "outputs": [],
   "source": [
    "# data selection - sel, isel"
   ]
  },
  {
   "cell_type": "code",
   "execution_count": null,
   "id": "adolescent-reflection",
   "metadata": {
    "slideshow": {
     "slide_type": "subslide"
    }
   },
   "outputs": [],
   "source": [
    "# data as numpy array\n",
    "seisnc_vol.iline.values"
   ]
  },
  {
   "cell_type": "code",
   "execution_count": null,
   "id": "tight-hierarchy",
   "metadata": {
    "slideshow": {
     "slide_type": "subslide"
    }
   },
   "outputs": [],
   "source": [
    "# xarray methods (plot, interp, mean, min, max, transpose, broadcast_like, etc...)\n",
    "# seisnc_vol.cdp_x.transpose(\"xline\", \"iline\")"
   ]
  },
  {
   "cell_type": "code",
   "execution_count": null,
   "id": "adopted-miami",
   "metadata": {
    "slideshow": {
     "slide_type": "subslide"
    }
   },
   "outputs": [],
   "source": [
    "# xarray variable assignment"
   ]
  },
  {
   "cell_type": "markdown",
   "id": "dated-alexander",
   "metadata": {
    "slideshow": {
     "slide_type": "subslide"
    }
   },
   "source": [
    "## `xarray` FAQ\n",
    "\n",
    " - Why don't we make the global coordinates the dimensions?\n",
    " - How do I save/persist my changes."
   ]
  },
  {
   "cell_type": "markdown",
   "id": "fourth-cleanup",
   "metadata": {},
   "source": [
    "Notes: \n",
    "Global coordinates are not orthogonal because the seismic grid rarely lines up with Grid North.\n",
    "Persisting changes either means saving back to SEG-Y or using the NetCDF File Format. "
   ]
  },
  {
   "cell_type": "markdown",
   "id": "common-following",
   "metadata": {
    "slideshow": {
     "slide_type": "subslide"
    }
   },
   "source": [
    "# NetCDF File Format\n",
    "\n",
    "Common in climate science, binary, fast and lazy loading\n",
    "\n",
    "(basically `xarray.Datataset` on disk)\n"
   ]
  },
  {
   "cell_type": "markdown",
   "id": "impossible-moisture",
   "metadata": {
    "slideshow": {
     "slide_type": "subslide"
    }
   },
   "source": [
    "## NetCDF\n",
    "\n",
    "Why use “another” file format for seismic?"
   ]
  },
  {
   "cell_type": "markdown",
   "id": "outer-classic",
   "metadata": {
    "slideshow": {
     "slide_type": "fragment"
    }
   },
   "source": [
    " - Faster than SEG-Y for most use cases."
   ]
  },
  {
   "cell_type": "markdown",
   "id": "virgin-flour",
   "metadata": {
    "slideshow": {
     "slide_type": "fragment"
    }
   },
   "source": [
    " - Widely supported within the Python scientific stack (xarray, dask)."
   ]
  },
  {
   "cell_type": "markdown",
   "id": "enclosed-fraud",
   "metadata": {
    "slideshow": {
     "slide_type": "fragment"
    }
   },
   "source": [
    " - Commonly supported in other languages."
   ]
  },
  {
   "cell_type": "markdown",
   "id": "tough-bracelet",
   "metadata": {
    "slideshow": {
     "slide_type": "notes"
    }
   },
   "source": [
    "Generally it just makes working with seismic in Python easier. It will save you time if you are reading volumes repeatedly or can't store everything you need in memory.\n",
    "\n",
    "NetCDF was the logical choice because it is at the core of `xarray` but `xarray` supports other data models such as zarr which are investigating.\n",
    "There is also beta support within `segysak` for the OpenZGY format with instructions on Github about how to set that up."
   ]
  },
  {
   "cell_type": "code",
   "execution_count": null,
   "id": "seeing-profile",
   "metadata": {
    "scrolled": true,
    "slideshow": {
     "slide_type": "subslide"
    }
   },
   "outputs": [],
   "source": [
    "# output the data to netcdf\n",
    "seisnc_vol.seisio.to_netcdf(\"data/test.seisnc\")"
   ]
  },
  {
   "cell_type": "code",
   "execution_count": null,
   "id": "worse-astrology",
   "metadata": {
    "slideshow": {
     "slide_type": "fragment"
    }
   },
   "outputs": [],
   "source": [
    "## linux\n",
    "# !ls data/.\n",
    "\n",
    "## windows\n",
    "!dir data\\."
   ]
  },
  {
   "cell_type": "markdown",
   "id": "laden-parcel",
   "metadata": {},
   "source": [
    "Notes:\n",
    "\n",
    "This creates a seisnc file which is slightly smaller than the original segy. "
   ]
  },
  {
   "cell_type": "code",
   "execution_count": null,
   "id": "biblical-debut",
   "metadata": {},
   "outputs": [],
   "source": [
    "from segysak import open_seisnc\n",
    "open_seisnc(\"data/test.seisnc\")"
   ]
  },
  {
   "cell_type": "markdown",
   "id": "reliable-better",
   "metadata": {},
   "source": [
    "Notes:\n",
    "\n",
    "To open a seisnc file we just use the `open_seisnc` method from segysak.\n",
    "`open_seisnc` is a thin wrapper around the `xarray.open_dataset` method that includes\n",
    "some special handling for segysak attributes and ensures that the dataset is opened\n",
    "with the `.seis` extension for xarray which we will talk about soon."
   ]
  },
  {
   "cell_type": "markdown",
   "id": "wicked-bulgarian",
   "metadata": {
    "slideshow": {
     "slide_type": "slide"
    }
   },
   "source": [
    "# Editing Data and Saving to SEG-Y\n",
    "\n",
    " - Apply a function to headers (adjust values as DF).\n",
    " - Apply a function to data (mask/filter).\n",
    " - Return to segy highlighting requirements of segysak.\n"
   ]
  },
  {
   "cell_type": "markdown",
   "id": "devoted-recycling",
   "metadata": {
    "slideshow": {
     "slide_type": "notes"
    }
   },
   "source": [
    "Saving the data to netcdf requires the use of the seisio accessor due to limitations on the types of attributes that can be\n",
    "saved using the xarray method.\n",
    "\n"
   ]
  },
  {
   "cell_type": "code",
   "execution_count": null,
   "id": "associate-camel",
   "metadata": {
    "slideshow": {
     "slide_type": "subslide"
    }
   },
   "outputs": [],
   "source": [
    "from segysak.segy import segy_writer\n",
    "help(segy_writer)"
   ]
  },
  {
   "cell_type": "code",
   "execution_count": null,
   "id": "voluntary-corner",
   "metadata": {
    "slideshow": {
     "slide_type": "subslide"
    }
   },
   "outputs": [],
   "source": [
    "# export in memory dataset to segy\n",
    "segy_writer(seisnc_vol, \"data/test.segy\")"
   ]
  },
  {
   "cell_type": "code",
   "execution_count": null,
   "id": "behind-mixer",
   "metadata": {
    "slideshow": {
     "slide_type": "fragment"
    }
   },
   "outputs": [],
   "source": [
    "## linux\n",
    "# !ls data/.\n",
    "\n",
    "## windows\n",
    "!dir data\\."
   ]
  },
  {
   "cell_type": "markdown",
   "id": "changing-architecture",
   "metadata": {
    "slideshow": {
     "slide_type": "slide"
    }
   },
   "source": [
    "# 10 Minute Break"
   ]
  },
  {
   "cell_type": "code",
   "execution_count": null,
   "id": "directed-football",
   "metadata": {},
   "outputs": [],
   "source": [
    "import time\n",
    "from tqdm.auto import tqdm\n",
    "\n",
    "with tqdm(desc=\"Break Timer\", total=10*60, bar_format=\"{l_bar}{bar} {elapsed_s:.0f}/{total} seconds\") as pbar:\n",
    "    start = time.time()\n",
    "    now = time.time()\n",
    "    prev_now = now\n",
    "    while (now - start) < 10*60:\n",
    "        pbar.update(now - prev_now)\n",
    "        time.sleep(1)\n",
    "        prev_now = now\n",
    "        now = time.time()\n",
    "    pbar.update(time.time() - prev_now)"
   ]
  },
  {
   "cell_type": "markdown",
   "id": "characteristic-freeware",
   "metadata": {
    "slideshow": {
     "slide_type": "slide"
    }
   },
   "source": [
    "# Horizon extraction\n",
    "\n",
    " - Load a horizon and add it to a cube\n",
    " - Plotting maps\n",
    " - Plotting horizons on vertical slices\n",
    " - Masking and sampling around a horizon\n"
   ]
  },
  {
   "cell_type": "markdown",
   "id": "potential-study",
   "metadata": {},
   "source": [
    "## Load some seismic horizon data"
   ]
  },
  {
   "cell_type": "code",
   "execution_count": null,
   "id": "arbitrary-agency",
   "metadata": {},
   "outputs": [],
   "source": [
    "top_hugin_path = pathlib.Path(\"data/hor_twt_hugin_fm_top.dat\")\n",
    "print(\"File\", top_hugin_path, \"exists?\", top_hugin_path.exists())"
   ]
  },
  {
   "cell_type": "code",
   "execution_count": null,
   "id": "fuzzy-attendance",
   "metadata": {},
   "outputs": [],
   "source": [
    "# check the file layout\n",
    "with open(top_hugin_path) as f:\n",
    "    lines = [next(f) for i in range(5)]\n",
    "print(*lines)"
   ]
  },
  {
   "cell_type": "code",
   "execution_count": null,
   "id": "purple-planet",
   "metadata": {},
   "outputs": [],
   "source": [
    "# is a csv file\n",
    "top_hugin_df = pd.read_csv(top_hugin_path, names=[\"cdp_x\",\"cdp_y\",\"twt\"], sep=' ')\n",
    "top_hugin_df.head()"
   ]
  },
  {
   "cell_type": "code",
   "execution_count": null,
   "id": "brutal-ideal",
   "metadata": {},
   "outputs": [],
   "source": [
    "top_hugin_ds = seisnc_vol.seis.surface_from_points(top_hugin_df, 'twt', right=('cdp_x', 'cdp_y'))\n",
    "top_hugin_ds"
   ]
  },
  {
   "cell_type": "code",
   "execution_count": null,
   "id": "modular-brick",
   "metadata": {},
   "outputs": [],
   "source": [
    "top_hugin_ds.twt.plot(cmap='hsv')"
   ]
  },
  {
   "cell_type": "code",
   "execution_count": null,
   "id": "favorite-protest",
   "metadata": {},
   "outputs": [],
   "source": [
    "tform = seisnc_vol.seis.get_affine_transform()"
   ]
  },
  {
   "cell_type": "code",
   "execution_count": null,
   "id": "pressing-gasoline",
   "metadata": {},
   "outputs": [],
   "source": [
    "axs = plt.subplot()\n",
    "mesh = axs.pcolormesh(\n",
    "    top_hugin_ds.cdp_x.values,\n",
    "    top_hugin_ds.cdp_y.values,\n",
    "    top_hugin_ds.twt.values,\n",
    "    shading=\"auto\"\n",
    ")\n",
    "axs.set_aspect(1)\n",
    "axs.plot([10100, 10100], [2200, 2300], transform=tform + axs.transData, color=\"w\")"
   ]
  },
  {
   "cell_type": "code",
   "execution_count": null,
   "id": "exterior-vintage",
   "metadata": {},
   "outputs": [],
   "source": [
    "axs = plt.subplot()\n",
    "mesh = axs.pcolormesh(\n",
    "    top_hugin_ds.iline.values,\n",
    "    top_hugin_ds.xline.values,\n",
    "    top_hugin_ds.twt.T.values,\n",
    "    shading=\"auto\",\n",
    "    transform=tform + axs.transData\n",
    ")\n",
    "axs.set_aspect(1)\n",
    "axs.plot([10100, 10100], [2200, 2300], transform=tform + axs.transData, color=\"w\")"
   ]
  },
  {
   "cell_type": "code",
   "execution_count": null,
   "id": "agricultural-essex",
   "metadata": {},
   "outputs": [],
   "source": [
    "# assign horizon back to seismic\n",
    "seisnc_vol[\"hugin\"] = top_hugin_ds.twt\n",
    "seisnc_vol"
   ]
  },
  {
   "cell_type": "code",
   "execution_count": null,
   "id": "running-saudi",
   "metadata": {},
   "outputs": [],
   "source": [
    "# plotting\n",
    "fig, axs = plt.subplots(figsize=(20, 5))\n",
    "seisnc_vol.sel(iline=10100, twt=range(2402, 2900, 4), method='nearest').data.T.plot(ax=axs, yincrease=False)\n",
    "axs.plot(seisnc_vol.sel(iline=10100).xline, seisnc_vol.sel(iline=10100).hugin, 'k')"
   ]
  },
  {
   "cell_type": "markdown",
   "id": "transsexual-mexican",
   "metadata": {
    "slideshow": {
     "slide_type": "slide"
    }
   },
   "source": [
    "# Mapping functions over blocks\n",
    "\n",
    " - Learn how to use Xarray to map functions on blocks of data, such as trace maths.\n",
    "\n",
    "Horizon Flattening?"
   ]
  },
  {
   "cell_type": "code",
   "execution_count": null,
   "id": "heavy-mouse",
   "metadata": {},
   "outputs": [],
   "source": [
    "seisnc_vol[\"trace\"] = ((\"iline\", \"xline\"), np.arange(61*202, dtype=int).reshape(61, 202))"
   ]
  },
  {
   "cell_type": "code",
   "execution_count": null,
   "id": "adverse-israel",
   "metadata": {},
   "outputs": [],
   "source": [
    "def hflat(ds, hor_var, twt_out):\n",
    "    trace_out = ds.copy()\n",
    "    trace_out[\"twt\"] = ds.twt - np.squeeze(ds[hor_var].values)\n",
    "    return trace_out.data.interp(twt=twt_out)"
   ]
  },
  {
   "cell_type": "code",
   "execution_count": null,
   "id": "binary-overhead",
   "metadata": {},
   "outputs": [],
   "source": [
    "flat_twt = np.arange(-seisnc_vol.hugin.max(), seisnc_vol.twt.max()-seisnc_vol.hugin.min(), 1, dtype=int)"
   ]
  },
  {
   "cell_type": "code",
   "execution_count": null,
   "id": "otherwise-filing",
   "metadata": {},
   "outputs": [],
   "source": [
    "tg_gby = seisnc_vol.sel(iline=10100).groupby(\"trace\").map(hflat, args=(\"hugin\", flat_twt))"
   ]
  },
  {
   "cell_type": "code",
   "execution_count": null,
   "id": "partial-adrian",
   "metadata": {},
   "outputs": [],
   "source": [
    "fig, axs = plt.subplots(ncols=2, figsize=(20, 5))\n",
    "seisnc_vol \\\n",
    "    .sel(iline=10100, twt=range(2002, 2900, 4), method='nearest') \\\n",
    "    .data.T.plot(ax=axs[0], yincrease=False)\n",
    "axs[0].plot(seisnc_vol.sel(iline=10100).xline, seisnc_vol.sel(iline=10100).hugin, 'k')\n",
    "tg_gby \\\n",
    "    .sel(twt=range(-300, 300, 4), method='nearest') \\\n",
    "    .T.plot(ax=axs[1], yincrease=False)\n",
    "axs[1].hlines(0, 0, 10000, \"k\")"
   ]
  },
  {
   "cell_type": "code",
   "execution_count": null,
   "id": "southwest-parks",
   "metadata": {},
   "outputs": [],
   "source": [
    "seisnc_vol_chkd = seisnc_vol.chunk({\"iline\":1, \"xline\":1})\n",
    "template = seisnc_vol_chkd.interp(twt=flat_twt)\n",
    "tg_mb = seisnc_vol_chkd.map_blocks(hflat, args=(\"hugin\", flat_twt), template=template.data)"
   ]
  },
  {
   "cell_type": "code",
   "execution_count": null,
   "id": "second-overview",
   "metadata": {},
   "outputs": [],
   "source": [
    "fig, axs = plt.subplots(ncols=2, figsize=(20, 5))\n",
    "seisnc_vol.sel(iline=10100, twt=range(2002, 2900, 4), method='nearest').data.T.plot(ax=axs[0], yincrease=False)\n",
    "tg_mb.sel(iline=10100, twt=range(-300, 300, 4), method='nearest').T.plot(ax=axs[1], yincrease=False)"
   ]
  },
  {
   "cell_type": "code",
   "execution_count": null,
   "id": "legislative-aerospace",
   "metadata": {},
   "outputs": [],
   "source": [
    "%time tg_mb = tg_mb.compute()"
   ]
  },
  {
   "cell_type": "markdown",
   "id": "genetic-timer",
   "metadata": {
    "slideshow": {
     "slide_type": "slide"
    }
   },
   "source": [
    "# Vectorization of Seismic\n",
    "\n",
    " - I want to do machine learning and I need to tabularize my seismic and headers.\n",
    " - Now I need to send my results back to SEG-Y.\n"
   ]
  },
  {
   "cell_type": "code",
   "execution_count": null,
   "id": "specified-kidney",
   "metadata": {
    "slideshow": {
     "slide_type": "subslide"
    }
   },
   "outputs": [],
   "source": [
    "seisnc_vol_df = seisnc_vol.to_dataframe()"
   ]
  },
  {
   "cell_type": "code",
   "execution_count": null,
   "id": "improved-prairie",
   "metadata": {
    "slideshow": {
     "slide_type": "-"
    }
   },
   "outputs": [],
   "source": [
    "print(seisnc_vol_df)"
   ]
  },
  {
   "cell_type": "code",
   "execution_count": null,
   "id": "funded-forge",
   "metadata": {
    "slideshow": {
     "slide_type": "subslide"
    }
   },
   "outputs": [],
   "source": [
    "seisnc_reindex = seisnc_vol_df.reset_index()\n",
    "print(seisnc_reindex)"
   ]
  },
  {
   "cell_type": "code",
   "execution_count": null,
   "id": "scientific-procurement",
   "metadata": {
    "slideshow": {
     "slide_type": "subslide"
    }
   },
   "outputs": [],
   "source": [
    "seisnc_df_multi = seisnc_reindex.set_index([\"iline\", \"xline\", \"twt\"])\n",
    "print(seisnc_df_multi)"
   ]
  },
  {
   "cell_type": "code",
   "execution_count": null,
   "id": "bibliographic-credits",
   "metadata": {
    "slideshow": {
     "slide_type": "fragment"
    }
   },
   "outputs": [],
   "source": [
    "seisnc_xr = seisnc_df_multi.to_xarray()\n",
    "print(seisnc_xr)"
   ]
  },
  {
   "cell_type": "markdown",
   "id": "focal-rendering",
   "metadata": {
    "slideshow": {
     "slide_type": "notes"
    }
   },
   "source": [
    "'cdp_x' and 'cdp_y' have come back as 3d cubes, need to reset that\n",
    "all the seisnc attributes are missing"
   ]
  },
  {
   "cell_type": "code",
   "execution_count": null,
   "id": "athletic-lindsay",
   "metadata": {
    "slideshow": {
     "slide_type": "subslide"
    }
   },
   "outputs": [],
   "source": [
    "seisnc_xr.attrs = seisnc_vol.attrs\n",
    "display(seisnc_xr.attrs)"
   ]
  },
  {
   "cell_type": "code",
   "execution_count": null,
   "id": "further-cannon",
   "metadata": {
    "slideshow": {
     "slide_type": "subslide"
    }
   },
   "outputs": [],
   "source": [
    "seisnc_xr[\"cdp_x\"] = seisnc_xr[\"cdp_x\"].mean(dim=[\"twt\"])\n",
    "seisnc_xr[\"cdp_y\"] = seisnc_xr[\"cdp_y\"].mean(dim=[\"twt\"])\n",
    "seisnc_xr = seisnc_xr.set_coords([\"cdp_x\", \"cdp_y\"])\n",
    "print(seisnc_xr)"
   ]
  },
  {
   "cell_type": "markdown",
   "id": "level-joseph",
   "metadata": {
    "slideshow": {
     "slide_type": "slide"
    }
   },
   "source": [
    "# Questions - Slack time because we will run over.\n",
    "\n",
    " - Fall backs to chat about memory management, dask, other file formats such as ZGY and Zarr\n",
    " - Demo of CLI for quick looks at headers or EBCIDC\n",
    " - Contribution Opportunities / Community led development\n"
   ]
  },
  {
   "cell_type": "code",
   "execution_count": null,
   "id": "paperback-response",
   "metadata": {},
   "outputs": [],
   "source": []
  }
 ],
 "metadata": {
  "celltoolbar": "Slideshow",
  "kernelspec": {
   "display_name": "Python [conda env:segysak]",
   "language": "python",
   "name": "conda-env-segysak-py"
  },
  "language_info": {
   "codemirror_mode": {
    "name": "ipython",
    "version": 3
   },
   "file_extension": ".py",
   "mimetype": "text/x-python",
   "name": "python",
   "nbconvert_exporter": "python",
   "pygments_lexer": "ipython3",
   "version": "3.8.6"
  },
  "rise": {
   "backimage": "segysak_background.png"
  }
 },
 "nbformat": 4,
 "nbformat_minor": 5
}
