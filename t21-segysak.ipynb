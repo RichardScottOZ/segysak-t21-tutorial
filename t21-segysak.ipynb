{
 "cells": [
  {
   "cell_type": "markdown",
   "id": "blank-antibody",
   "metadata": {
    "slideshow": {
     "slide_type": "slide"
    }
   },
   "source": [
    "<table><tr align=left>\n",
    "<td> <img src=\"swung_logo_vector.png\" alt=\"Drawing\" style=\"width: 450px;\"/> </td>\n",
    "<td> <img src=\"segysak_logo.png\" alt=\"Drawing\" style=\"width: 450px;\"/> </td>\n",
    "</tr></table>\n",
    "\n",
    "\n",
    "# T21 Segysak Tutorial - Tony Hallam, April 2021\n",
    "\n"
   ]
  },
  {
   "cell_type": "markdown",
   "id": "floral-audio",
   "metadata": {
    "slideshow": {
     "slide_type": "slide"
    }
   },
   "source": [
    "# Introduction\n",
    "\n",
    "### What is `segysak`?\n",
    "\n",
    "### Tour\n",
    "\n",
    "### `segysak` vs `segyio` and `xarray`."
   ]
  },
  {
   "cell_type": "markdown",
   "id": "sized-drive",
   "metadata": {
    "slideshow": {
     "slide_type": "subslide"
    }
   },
   "source": [
    "## What is `segysak`?\n",
    "\n",
    " - A library to make it easier to read and write segy data, as well as some sugar for common seismic related operations in Python.\n",
    " - "
   ]
  },
  {
   "cell_type": "markdown",
   "id": "fundamental-clearing",
   "metadata": {
    "slideshow": {
     "slide_type": "subslide"
    }
   },
   "source": [
    "## `segysak` Tour\n",
    "\n",
    " - **Repository:** https://github.com/trhallam/segysak\n",
    " - **ReadtheDocs:** https://segysak.readthedocs.io/en/latest/\n",
    "   - Examples\n",
    "   - API\n",
    " - **Slack:** https://swung.slack.com/messages/segysak/"
   ]
  },
  {
   "cell_type": "markdown",
   "id": "finite-volleyball",
   "metadata": {
    "slideshow": {
     "slide_type": "subslide"
    }
   },
   "source": [
    "## `segysak` vs `segyio` and `xarray`"
   ]
  },
  {
   "cell_type": "markdown",
   "id": "permanent-riding",
   "metadata": {
    "slideshow": {
     "slide_type": "slide"
    }
   },
   "source": [
    "# Installation\n",
    "\n",
    "`pip install segysak`\n",
    "\n",
    "Demo Data\n",
    "\n",
    "Opening the Tutorial Notebook"
   ]
  },
  {
   "cell_type": "code",
   "execution_count": 6,
   "id": "fatty-invalid",
   "metadata": {},
   "outputs": [],
   "source": [
    "from segysak.segy import segy_loader\n"
   ]
  },
  {
   "cell_type": "markdown",
   "id": "persistent-intention",
   "metadata": {
    "slideshow": {
     "slide_type": "slide"
    }
   },
   "source": [
    "# Basic Usage\n",
    "\n",
    " - Loading a 3D cube into your Notebook environment (How to examine the headers, how to load the data, how to filter headers for partial loading, explanation of bytes and determining these from the header DF, cover the segy_loader arguments).\n",
    " - Discuss the xarray format for seisnc. What does it offer. Xarray selection demonstration with plotting of iline/xline/slice.\n",
    " - Discussion of coordinates (local vs global), limitations and explanations.\n"
   ]
  },
  {
   "cell_type": "code",
   "execution_count": null,
   "id": "piano-fighter",
   "metadata": {},
   "outputs": [],
   "source": []
  },
  {
   "cell_type": "markdown",
   "id": "generic-recruitment",
   "metadata": {
    "slideshow": {
     "slide_type": "slide"
    }
   },
   "source": [
    "# NetCDF File Format\n",
    "\n",
    " - Why use “another” format for seismic? Pro’s con’s when is this necessary?\n",
    " - Alternative approaches (e.g. save headers to hdf5 after scan).\n",
    " - Introduce segy_converter and cli `segysak convert`.\n"
   ]
  },
  {
   "cell_type": "code",
   "execution_count": null,
   "id": "devoted-candy",
   "metadata": {},
   "outputs": [],
   "source": []
  },
  {
   "cell_type": "markdown",
   "id": "corrected-crown",
   "metadata": {
    "slideshow": {
     "slide_type": "slide"
    }
   },
   "source": [
    "# Editing Data and Saving to SEG-Y\n",
    "\n",
    " - Apply a function to headers (adjust values as DF).\n",
    " - Apply a function to data (mask/filter).\n",
    " - Return to segy highlighting requirements of segysak.\n"
   ]
  },
  {
   "cell_type": "code",
   "execution_count": null,
   "id": "medieval-newspaper",
   "metadata": {},
   "outputs": [],
   "source": []
  },
  {
   "cell_type": "markdown",
   "id": "missing-outdoors",
   "metadata": {
    "slideshow": {
     "slide_type": "slide"
    }
   },
   "source": [
    "# 10 Minute Break"
   ]
  },
  {
   "cell_type": "code",
   "execution_count": 1,
   "id": "accessory-phenomenon",
   "metadata": {
    "scrolled": true
   },
   "outputs": [
    {
     "name": "stderr",
     "output_type": "stream",
     "text": [
      "Seconds: 100%|███████████████████████████████████████████████████████████████████████| 600/600 [10:03<00:00,  1.01s/it]\n"
     ]
    }
   ],
   "source": [
    "import time\n",
    "import tqdm\n",
    "\n",
    "for i in tqdm.tqdm(range(60*10), desc=\"Seconds\"):\n",
    "    time.sleep(1)\n"
   ]
  },
  {
   "cell_type": "markdown",
   "id": "crucial-borough",
   "metadata": {
    "slideshow": {
     "slide_type": "slide"
    }
   },
   "source": [
    "# Coordinate based selection\n",
    "\n",
    " - Example for an arbitrary line (explain limitations).\n",
    " - Example along a well path.\n"
   ]
  },
  {
   "cell_type": "code",
   "execution_count": null,
   "id": "illegal-simpson",
   "metadata": {},
   "outputs": [],
   "source": []
  },
  {
   "cell_type": "markdown",
   "id": "according-married",
   "metadata": {
    "slideshow": {
     "slide_type": "slide"
    }
   },
   "source": [
    "# Horizon extraction\n",
    "\n",
    " - Load a horizon and add it to a cube\n",
    " - Plotting on slices\n",
    " - Fill holes in a horizon\n",
    " - Masking and sampling around a horizon\n",
    " - Plotting maps\n"
   ]
  },
  {
   "cell_type": "code",
   "execution_count": null,
   "id": "polar-maine",
   "metadata": {},
   "outputs": [],
   "source": []
  },
  {
   "cell_type": "markdown",
   "id": "imposed-position",
   "metadata": {
    "slideshow": {
     "slide_type": "slide"
    }
   },
   "source": [
    "# Mapping functions over blocks\n",
    "\n",
    " - Learn how to use Xarray to map functions on blocks of data, such as trace maths.\n"
   ]
  },
  {
   "cell_type": "code",
   "execution_count": null,
   "id": "psychological-sessions",
   "metadata": {},
   "outputs": [],
   "source": []
  },
  {
   "cell_type": "markdown",
   "id": "mounted-reproduction",
   "metadata": {
    "slideshow": {
     "slide_type": "slide"
    }
   },
   "source": [
    "# Vectorization of Seismic\n",
    "\n",
    " - I want to do machine learning and I need to tabularize my seismic and headers.\n",
    " - Now I need to send my results back to SEGY.\n"
   ]
  },
  {
   "cell_type": "code",
   "execution_count": null,
   "id": "provincial-storage",
   "metadata": {},
   "outputs": [],
   "source": []
  },
  {
   "cell_type": "markdown",
   "id": "unique-distribution",
   "metadata": {
    "slideshow": {
     "slide_type": "slide"
    }
   },
   "source": [
    "# Questions - Slack time because we will run over.\n",
    "\n",
    " - Fall backs to chat about memory management, dask, other file formats such as ZGY and Zarr\n",
    " - Demo of CLI for quick looks at headers or EBCIDC\n",
    " - Contribution Opportunities / Community led development\n"
   ]
  },
  {
   "cell_type": "code",
   "execution_count": null,
   "id": "imperial-italian",
   "metadata": {},
   "outputs": [],
   "source": []
  }
 ],
 "metadata": {
  "celltoolbar": "Slideshow",
  "kernelspec": {
   "display_name": "Python [conda env:segysak]",
   "language": "python",
   "name": "conda-env-segysak-py"
  },
  "language_info": {
   "codemirror_mode": {
    "name": "ipython",
    "version": 3
   },
   "file_extension": ".py",
   "mimetype": "text/x-python",
   "name": "python",
   "nbconvert_exporter": "python",
   "pygments_lexer": "ipython3",
   "version": "3.8.6"
  }
 },
 "nbformat": 4,
 "nbformat_minor": 5
}
